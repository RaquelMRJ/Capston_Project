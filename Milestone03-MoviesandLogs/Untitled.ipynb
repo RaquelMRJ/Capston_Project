{
 "cells": [
  {
   "cell_type": "code",
   "execution_count": null,
   "id": "8deb5101",
   "metadata": {},
   "outputs": [],
   "source": [
    "from pyspark.sql.functions import *\n",
    "\n",
    "LOG_REVIEWS = \"s3://raw-data-raquel/log_reviews.csv\"\n",
    "MOVIE_REVIEWS = \"s3://raw-data-raquel/movie_review.csv\"\n",
    "USER_PURCHASE = \"\"\n",
    "\n",
    "# Reduce verbosity from stdout\n",
    "spark.sparkContext.setLogLevel(\"WARN\")\n",
    "#sc.install_pypi_package(\"xmltodict==0.12.0\")"
   ]
  },
  {
   "cell_type": "code",
   "execution_count": null,
   "id": "ecc521c9",
   "metadata": {},
   "outputs": [],
   "source": [
    "log_reviews = (\n",
    "    spark\n",
    "      .read\n",
    "      .option(\"header\", \"true\")\n",
    "      .option(\"inferSchema\", \"true\")\n",
    "      .csv(LOG_REVIEWS)\n",
    ")\n",
    "movie_reviews = (\n",
    "    spark\n",
    "      .read\n",
    "      .option(\"header\", \"true\")\n",
    "      .option(\"inferSchema\", \"true\")\n",
    "      .csv(MOVIE_REVIEWS)\n",
    ")\n",
    "\n",
    "user_purchase = (\n",
    "    spark\n",
    "      .read\n",
    "      .option(\"header\", \"true\")\n",
    "      .option(\"inferSchema\", \"true\")\n",
    "      .csv(USER_PURCHASE)\n",
    ")"
   ]
  },
  {
   "cell_type": "code",
   "execution_count": null,
   "id": "14bd6bde",
   "metadata": {},
   "outputs": [],
   "source": []
  }
 ],
 "metadata": {
  "kernelspec": {
   "display_name": "Python 3 (ipykernel)",
   "language": "python",
   "name": "python3"
  },
  "language_info": {
   "codemirror_mode": {
    "name": "ipython",
    "version": 3
   },
   "file_extension": ".py",
   "mimetype": "text/x-python",
   "name": "python",
   "nbconvert_exporter": "python",
   "pygments_lexer": "ipython3",
   "version": "3.9.7"
  }
 },
 "nbformat": 4,
 "nbformat_minor": 5
}
